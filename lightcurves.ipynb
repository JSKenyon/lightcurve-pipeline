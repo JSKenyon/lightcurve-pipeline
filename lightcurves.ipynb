{
 "cells": [
  {
   "cell_type": "code",
   "execution_count": null,
   "id": "2e5de3c9",
   "metadata": {},
   "outputs": [],
   "source": [
    "from radiopadre import ls\n",
    "obsdir = \"../working_dir/obs-l1-qc2/lc1-120s-0asec/\""
   ]
  },
  {
   "cell_type": "code",
   "execution_count": null,
   "id": "9bb0576f",
   "metadata": {},
   "outputs": [],
   "source": [
    "ls(obsdir)"
   ]
  },
  {
   "cell_type": "markdown",
   "id": "14e69dbb",
   "metadata": {},
   "source": [
    "# Lightcurves U3, 8s cadence\n",
    "Lightcurves and power spectra are shown for 100 sources at a time. Click on the \"> \" heading bar  to expand/collapse each batch.\n",
    "\n",
    "Source 0 is the RRAT. Source 1 is is the nearest PSR candidate. Sources 2-27 are AGN candidates, followed by VLBI calibrators from Hayley's link, followed by other PSR candidates within its error box, followed by the rest of the sources in the field, in order of decreasing brightness. The plot title colour-codes the source type.\n",
    "\n",
    "4-sigma excursions in the lightcurves are indicated by red points / pink errorbars."
   ]
  },
  {
   "cell_type": "code",
   "execution_count": null,
   "id": "8915ce84",
   "metadata": {
    "scrolled": false
   },
   "outputs": [],
   "source": [
    "for d in ls(obsdir).dirs:\n",
    "   d.images.thumbs.show()"
   ]
  },
  {
   "cell_type": "markdown",
   "id": "5645985b",
   "metadata": {},
   "source": [
    "## Lightcurves in txt format"
   ]
  },
  {
   "cell_type": "code",
   "execution_count": null,
   "id": "359f27bf",
   "metadata": {
    "scrolled": false
   },
   "outputs": [],
   "source": [
    "for d in ls(obsdir).dirs:\n",
    "    d(\"*.ecsv\").show()"
   ]
  }
 ],
 "metadata": {
  "kernelspec": {
   "display_name": "radiopadre",
   "language": "python",
   "name": "radiopadre"
  },
  "language_info": {
   "codemirror_mode": {
    "name": "ipython",
    "version": 3
   },
   "file_extension": ".py",
   "mimetype": "text/x-python",
   "name": "python",
   "nbconvert_exporter": "python",
   "pygments_lexer": "ipython3",
   "version": "3.8.10"
  }
 },
 "nbformat": 4,
 "nbformat_minor": 5
}
