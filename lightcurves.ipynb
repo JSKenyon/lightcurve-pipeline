{
 "cells": [
  {
   "cell_type": "code",
   "execution_count": null,
   "id": "2e5de3c9",
   "metadata": {},
   "outputs": [],
   "source": [
    "from radiopadre import ls\n",
    "lcdir = \"../working_dir/obs-l1-qc2/lc1-120s-0asec/\"  # Set to location of lightcurves."
   ]
  },
  {
   "cell_type": "code",
   "execution_count": null,
   "id": "9bb0576f",
   "metadata": {},
   "outputs": [],
   "source": [
    "ls(lcdir)"
   ]
  },
  {
   "cell_type": "markdown",
   "id": "14e69dbb",
   "metadata": {},
   "source": [
    "# Lightcurves\n",
    "\n",
    "The following will display thumbnails of the lightcurves and power spectra extracted by the pipeline.\n",
    "\n",
    "4-sigma excursions in the lightcurves are indicated by red points / pink errorbars."
   ]
  },
  {
   "cell_type": "code",
   "execution_count": null,
   "id": "8915ce84",
   "metadata": {
    "scrolled": false
   },
   "outputs": [],
   "source": [
    "for d in ls(lcdir).dirs:\n",
    "   d.images.thumbs.show()"
   ]
  },
  {
   "cell_type": "markdown",
   "id": "5645985b",
   "metadata": {},
   "source": [
    "## Lightcurves in txt format"
   ]
  },
  {
   "cell_type": "code",
   "execution_count": null,
   "id": "359f27bf",
   "metadata": {
    "scrolled": false
   },
   "outputs": [],
   "source": [
    "for d in ls(lcdir).dirs:\n",
    "    d(\"*.ecsv\").show()"
   ]
  }
 ],
 "metadata": {
  "kernelspec": {
   "display_name": "radiopadre",
   "language": "python",
   "name": "radiopadre"
  },
  "language_info": {
   "codemirror_mode": {
    "name": "ipython",
    "version": 3
   },
   "file_extension": ".py",
   "mimetype": "text/x-python",
   "name": "python",
   "nbconvert_exporter": "python",
   "pygments_lexer": "ipython3",
   "version": "3.8.10"
  }
 },
 "nbformat": 4,
 "nbformat_minor": 5
}
